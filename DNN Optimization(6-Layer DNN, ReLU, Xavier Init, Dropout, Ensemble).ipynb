{
 "cells": [
  {
   "cell_type": "code",
   "execution_count": 1,
   "metadata": {
    "collapsed": true
   },
   "outputs": [],
   "source": [
    "import tensorflow as tf\n",
    "import os\n",
    "import numpy as np\n",
    "from tensorflow.examples.tutorials.mnist import input_data"
   ]
  },
  {
   "cell_type": "code",
   "execution_count": 2,
   "metadata": {
    "collapsed": false
   },
   "outputs": [
    {
     "name": "stdout",
     "output_type": "stream",
     "text": [
      "Extracting MNIST_DATA/train-images-idx3-ubyte.gz\n",
      "Extracting MNIST_DATA/train-labels-idx1-ubyte.gz\n",
      "Extracting MNIST_DATA/t10k-images-idx3-ubyte.gz\n",
      "Extracting MNIST_DATA/t10k-labels-idx1-ubyte.gz\n"
     ]
    }
   ],
   "source": [
    "mnist = input_data.read_data_sets(\"MNIST_DATA/\", one_hot=True)"
   ]
  },
  {
   "cell_type": "code",
   "execution_count": 3,
   "metadata": {
    "collapsed": false
   },
   "outputs": [],
   "source": [
    "def nn_layer(name, input_data, output_size):\n",
    "    W = tf.get_variable(name=name + \"_W\",\n",
    "                        shape=[input_data.get_shape().as_list()[1], output_size],\n",
    "                        initializer=tf.contrib.layers.xavier_initializer())\n",
    "    B = tf.get_variable(name=name + \"_B\",\n",
    "                        shape=[output_size],\n",
    "                        initializer=tf.contrib.layers.xavier_initializer())\n",
    "    return tf.matmul(input_data, W) + B"
   ]
  },
  {
   "cell_type": "code",
   "execution_count": 4,
   "metadata": {
    "collapsed": false
   },
   "outputs": [],
   "source": [
    "ensemble_nn_num = 5\n",
    "\n",
    "dropout_rate = tf.placeholder(tf.float32)\n",
    "\n",
    "X = tf.placeholder(tf.float32, [None, 28*28], name=\"x\")\n",
    "Y = tf.placeholder(tf.float32, [None, 10], name=\"y\")"
   ]
  },
  {
   "cell_type": "code",
   "execution_count": 5,
   "metadata": {
    "collapsed": false
   },
   "outputs": [],
   "source": [
    "with tf.name_scope(\"Layer2\"):\n",
    "    _L2 = tf.nn.relu(nn_layer(\"L2\", X, 14*14))\n",
    "    L2 = tf.nn.dropout(_L2, dropout_rate)\n",
    "    \n",
    "with tf.name_scope(\"Layer3\"):\n",
    "    _L3 = tf.nn.relu(nn_layer(\"L3\", L2, 14*14))\n",
    "    L3 = tf.nn.dropout(_L3, dropout_rate)\n",
    "    \n",
    "with tf.name_scope(\"Layer4\"):\n",
    "    _L4 = tf.nn.relu(nn_layer(\"L4\", L3, 14*14))\n",
    "    L4 = tf.nn.dropout(_L4, dropout_rate)\n",
    "    \n",
    "with tf.name_scope(\"Layer5\"):\n",
    "    _L5 = tf.nn.relu(nn_layer(\"L5\", L4, 14*14))\n",
    "    L5 = tf.nn.dropout(_L5, dropout_rate)\n",
    "    \n",
    "with tf.name_scope(\"Layer6\"):\n",
    "    _H = nn_layer(\"L6\", L5, 10)\n",
    "    H = tf.nn.dropout(_H, dropout_rate)"
   ]
  },
  {
   "cell_type": "code",
   "execution_count": 6,
   "metadata": {
    "collapsed": false
   },
   "outputs": [],
   "source": [
    "with tf.name_scope(\"Train\") as scope:\n",
    "    cost = tf.reduce_mean(tf.nn.softmax_cross_entropy_with_logits(H, Y))\n",
    "    train = tf.train.AdamOptimizer(0.001).minimize(cost)\n",
    "    \n",
    "    correct = tf.equal(tf.argmax(H, 1), tf.argmax(Y, 1))\n",
    "    accuracy = tf.reduce_mean(tf.cast(correct, tf.float32))"
   ]
  },
  {
   "cell_type": "code",
   "execution_count": 7,
   "metadata": {
    "collapsed": false
   },
   "outputs": [
    {
     "name": "stdout",
     "output_type": "stream",
     "text": [
      "NN: 0 Epoch: 1\n",
      "Test Accuracy: 0.9483\n",
      "NN: 0 Epoch: 2\n",
      "Test Accuracy: 0.9664\n",
      "NN: 0 Epoch: 3\n",
      "Test Accuracy: 0.9707\n",
      "NN: 0 Epoch: 4\n",
      "Test Accuracy: 0.9713\n",
      "NN: 0 Epoch: 5\n",
      "Test Accuracy: 0.9752\n",
      "NN: 0 Epoch: 6\n",
      "Test Accuracy: 0.9779\n",
      "NN: 0 Epoch: 7\n",
      "Test Accuracy: 0.9764\n",
      "NN: 0 Epoch: 8\n",
      "Test Accuracy: 0.9766\n",
      "NN: 0 Epoch: 9\n",
      "Test Accuracy: 0.9776\n",
      "NN: 0 Epoch: 10\n",
      "Test Accuracy: 0.9744\n",
      "NN: 0 Epoch: 11\n",
      "Test Accuracy: 0.9775\n",
      "NN: 0 Epoch: 12\n",
      "Test Accuracy: 0.9772\n",
      "NN: 0 Epoch: 13\n",
      "Test Accuracy: 0.9796\n",
      "NN: 0 Epoch: 14\n",
      "Test Accuracy: 0.9798\n",
      "NN: 0 Epoch: 15\n",
      "Test Accuracy: 0.9786\n",
      "NN: 1 Epoch: 1\n",
      "Test Accuracy: 0.9525\n",
      "NN: 1 Epoch: 2\n",
      "Test Accuracy: 0.959\n",
      "NN: 1 Epoch: 3\n",
      "Test Accuracy: 0.9666\n",
      "NN: 1 Epoch: 4\n",
      "Test Accuracy: 0.972\n",
      "NN: 1 Epoch: 5\n",
      "Test Accuracy: 0.9736\n",
      "NN: 1 Epoch: 6\n",
      "Test Accuracy: 0.9736\n",
      "NN: 1 Epoch: 7\n",
      "Test Accuracy: 0.9746\n",
      "NN: 1 Epoch: 8\n",
      "Test Accuracy: 0.9771\n",
      "NN: 1 Epoch: 9\n",
      "Test Accuracy: 0.9771\n",
      "NN: 1 Epoch: 10\n",
      "Test Accuracy: 0.9766\n",
      "NN: 1 Epoch: 11\n",
      "Test Accuracy: 0.978\n",
      "NN: 1 Epoch: 12\n",
      "Test Accuracy: 0.9788\n",
      "NN: 1 Epoch: 13\n",
      "Test Accuracy: 0.9787\n",
      "NN: 1 Epoch: 14\n",
      "Test Accuracy: 0.98\n",
      "NN: 1 Epoch: 15\n",
      "Test Accuracy: 0.9787\n",
      "NN: 2 Epoch: 1\n",
      "Test Accuracy: 0.9537\n",
      "NN: 2 Epoch: 2\n",
      "Test Accuracy: 0.966\n",
      "NN: 2 Epoch: 3\n",
      "Test Accuracy: 0.9742\n",
      "NN: 2 Epoch: 4\n",
      "Test Accuracy: 0.9731\n",
      "NN: 2 Epoch: 5\n",
      "Test Accuracy: 0.976\n",
      "NN: 2 Epoch: 6\n",
      "Test Accuracy: 0.9777\n",
      "NN: 2 Epoch: 7\n",
      "Test Accuracy: 0.9748\n",
      "NN: 2 Epoch: 8\n",
      "Test Accuracy: 0.978\n",
      "NN: 2 Epoch: 9\n",
      "Test Accuracy: 0.9766\n",
      "NN: 2 Epoch: 10\n",
      "Test Accuracy: 0.9784\n",
      "NN: 2 Epoch: 11\n",
      "Test Accuracy: 0.9787\n",
      "NN: 2 Epoch: 12\n",
      "Test Accuracy: 0.9767\n",
      "NN: 2 Epoch: 13\n",
      "Test Accuracy: 0.9813\n",
      "NN: 2 Epoch: 14\n",
      "Test Accuracy: 0.9804\n",
      "NN: 2 Epoch: 15\n",
      "Test Accuracy: 0.9815\n",
      "NN: 3 Epoch: 1\n",
      "Test Accuracy: 0.9547\n",
      "NN: 3 Epoch: 2\n",
      "Test Accuracy: 0.9677\n",
      "NN: 3 Epoch: 3\n",
      "Test Accuracy: 0.9722\n",
      "NN: 3 Epoch: 4\n",
      "Test Accuracy: 0.9708\n",
      "NN: 3 Epoch: 5\n",
      "Test Accuracy: 0.9728\n",
      "NN: 3 Epoch: 6\n",
      "Test Accuracy: 0.9753\n",
      "NN: 3 Epoch: 7\n",
      "Test Accuracy: 0.9773\n",
      "NN: 3 Epoch: 8\n",
      "Test Accuracy: 0.9783\n",
      "NN: 3 Epoch: 9\n",
      "Test Accuracy: 0.977\n",
      "NN: 3 Epoch: 10\n",
      "Test Accuracy: 0.9775\n",
      "NN: 3 Epoch: 11\n",
      "Test Accuracy: 0.9795\n",
      "NN: 3 Epoch: 12\n",
      "Test Accuracy: 0.9794\n",
      "NN: 3 Epoch: 13\n",
      "Test Accuracy: 0.9792\n",
      "NN: 3 Epoch: 14\n",
      "Test Accuracy: 0.9809\n",
      "NN: 3 Epoch: 15\n",
      "Test Accuracy: 0.9802\n",
      "NN: 4 Epoch: 1\n",
      "Test Accuracy: 0.9469\n",
      "NN: 4 Epoch: 2\n",
      "Test Accuracy: 0.9663\n",
      "NN: 4 Epoch: 3\n",
      "Test Accuracy: 0.9673\n",
      "NN: 4 Epoch: 4\n",
      "Test Accuracy: 0.9742\n",
      "NN: 4 Epoch: 5\n",
      "Test Accuracy: 0.9723\n",
      "NN: 4 Epoch: 6\n",
      "Test Accuracy: 0.9739\n",
      "NN: 4 Epoch: 7\n",
      "Test Accuracy: 0.9763\n",
      "NN: 4 Epoch: 8\n",
      "Test Accuracy: 0.9772\n",
      "NN: 4 Epoch: 9\n",
      "Test Accuracy: 0.9758\n",
      "NN: 4 Epoch: 10\n",
      "Test Accuracy: 0.9797\n",
      "NN: 4 Epoch: 11\n",
      "Test Accuracy: 0.9783\n",
      "NN: 4 Epoch: 12\n",
      "Test Accuracy: 0.9798\n",
      "NN: 4 Epoch: 13\n",
      "Test Accuracy: 0.9805\n",
      "NN: 4 Epoch: 14\n",
      "Test Accuracy: 0.9808\n",
      "NN: 4 Epoch: 15\n",
      "Test Accuracy: 0.9804\n"
     ]
    }
   ],
   "source": [
    "saver = tf.train.Saver(max_to_keep=5)\n",
    "save_dir = './checkpoints/'\n",
    "\n",
    "if not os.path.exists(save_dir):\n",
    "    os.makedirs(save_dir)\n",
    "\n",
    "sess = tf.Session()\n",
    "    \n",
    "for i in xrange(ensemble_nn_num):\n",
    "    sess.run(tf.global_variables_initializer())\n",
    "    \n",
    "    batch_size = mnist.train.num_examples/100\n",
    "    \n",
    "    for epoch in xrange(15):\n",
    "        for step in xrange(batch_size):\n",
    "            image, label = mnist.train.next_batch(100)\n",
    "            sess.run(train, feed_dict={X: image,\n",
    "                                       Y: label,\n",
    "                                       dropout_rate: 0.75})\n",
    "        \n",
    "        _accuracy = sess.run(accuracy, feed_dict={X: mnist.test.images,\n",
    "                                                  Y: mnist.test.labels,\n",
    "                                                  dropout_rate: 1.0})\n",
    "            \n",
    "        print \"NN:\", i, \"Epoch:\", (epoch + 1)\n",
    "        print \"Test Accuracy:\", _accuracy\n",
    "    saver.save(sess, save_path=save_dir + \"nn\" + str(i))"
   ]
  },
  {
   "cell_type": "code",
   "execution_count": 8,
   "metadata": {
    "collapsed": false
   },
   "outputs": [],
   "source": [
    "pred_labels = []\n",
    "for i in xrange(ensemble_nn_num):\n",
    "    saver.restore(sess, save_path=save_dir + \"nn\" + str(i))\n",
    "    pred = sess.run(H, feed_dict={X: mnist.test.images, dropout_rate: 1.0})\n",
    "    pred_labels.append(pred)\n",
    "    \n",
    "# Get average of the predictions of NNs\n",
    "ensemble_pred_labels = np.mean(pred_labels, axis=0)"
   ]
  },
  {
   "cell_type": "code",
   "execution_count": 10,
   "metadata": {
    "collapsed": false
   },
   "outputs": [
    {
     "name": "stdout",
     "output_type": "stream",
     "text": [
      "Ensemble Accuracy: 0.9846\n"
     ]
    }
   ],
   "source": [
    "ensemble_correct = np.equal(np.argmax(ensemble_pred_labels, 1), np.argmax(mnist.test.labels, 1))\n",
    "ensemble_accuracy = np.mean(ensemble_correct.astype(np.float32))\n",
    "print \"Ensemble Accuracy:\", ensemble_accuracy"
   ]
  }
 ],
 "metadata": {
  "kernelspec": {
   "display_name": "Python 2",
   "language": "python",
   "name": "python2"
  },
  "language_info": {
   "codemirror_mode": {
    "name": "ipython",
    "version": 2
   },
   "file_extension": ".py",
   "mimetype": "text/x-python",
   "name": "python",
   "nbconvert_exporter": "python",
   "pygments_lexer": "ipython2",
   "version": "2.7.12"
  }
 },
 "nbformat": 4,
 "nbformat_minor": 1
}
